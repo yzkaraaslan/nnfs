{
 "cells": [
  {
   "cell_type": "markdown",
   "id": "5410764f",
   "metadata": {},
   "source": [
    "# Part 1 - Intro and Neuron Code"
   ]
  },
  {
   "cell_type": "code",
   "execution_count": 123,
   "id": "9a722fd8",
   "metadata": {},
   "outputs": [],
   "source": [
    "import sys\n",
    "import numpy as np\n",
    "import matplotlib\n",
    "import random"
   ]
  },
  {
   "cell_type": "markdown",
   "id": "f5eec004",
   "metadata": {},
   "source": [
    "#### For single neuron with given inputs and weights:"
   ]
  },
  {
   "cell_type": "code",
   "execution_count": 23,
   "id": "da1c54ff",
   "metadata": {},
   "outputs": [
    {
     "data": {
      "text/plain": [
       "2.3"
      ]
     },
     "execution_count": 23,
     "metadata": {},
     "output_type": "execute_result"
    }
   ],
   "source": [
    "inputs = [1, 2, 3]\n",
    "weights = [.2, .8, -0.5]\n",
    "bias = 2\n",
    "\n",
    "output_list = [inp*weight for inp, weight in zip(inputs, weights)]\n",
    "output_neuron = sum(output_list) + bias\n",
    "output"
   ]
  },
  {
   "cell_type": "markdown",
   "id": "317ee0e8",
   "metadata": {},
   "source": [
    "#### To add new inputs and weights to the same neuron:"
   ]
  },
  {
   "cell_type": "code",
   "execution_count": 28,
   "id": "85a105cc",
   "metadata": {},
   "outputs": [],
   "source": [
    "# First define a function to build a neuron (to simplify the process)\n",
    "def neuron_builder(inputs: list, weights: list, bias: int) -> int:\n",
    "    weights_and_values = [inp*weight for inp, weight in zip(inputs, weights)]\n",
    "    output = sum(weights_and_values) + bias\n",
    "    return output"
   ]
  },
  {
   "cell_type": "code",
   "execution_count": 32,
   "id": "2b392c19",
   "metadata": {},
   "outputs": [
    {
     "name": "stdout",
     "output_type": "stream",
     "text": [
      "[1, 2, 3, 5, 8, 2, 1, 4]\n",
      "[0.2, 0.8, -0.5, 0.4, 0.9, -0.7, 2, -0.2]\n"
     ]
    }
   ],
   "source": [
    "# Extend the existing input/weight lists\n",
    "inputs = [1, 2, 3]\n",
    "weights = [.2, .8, -0.5]\n",
    "bias = 2\n",
    "\n",
    "new_inputs =  [ 5,  8,   2, 1,   4]\n",
    "new_weights = [.4, .9, -.7, 2, -.2]\n",
    "\n",
    "inputs.extend(new_inputs)\n",
    "weights.extend(new_weights)\n",
    "\n",
    "print(inputs)\n",
    "print(weights)"
   ]
  },
  {
   "cell_type": "code",
   "execution_count": 33,
   "id": "67055ff0",
   "metadata": {},
   "outputs": [
    {
     "data": {
      "text/plain": [
       "11.299999999999999"
      ]
     },
     "execution_count": 33,
     "metadata": {},
     "output_type": "execute_result"
    }
   ],
   "source": [
    "# Use the funtion with new lists\n",
    "neuron_builder(inputs, weights, bias)"
   ]
  },
  {
   "cell_type": "markdown",
   "id": "7cc55564",
   "metadata": {},
   "source": [
    "# Part 2 - Coding a Layer"
   ]
  },
  {
   "cell_type": "code",
   "execution_count": 41,
   "id": "aea308c6",
   "metadata": {},
   "outputs": [],
   "source": [
    "inputs = [1, 2, 3, 2.5]\n",
    "\n",
    "weight1 = [ 0.2 ,  0.8 , -0.5,   1]\n",
    "weight2 = [ 0.5 , -0.91,  0.26, -0.5]\n",
    "weight3 = [-0.26, -0.27,  0.17,  0.87]\n",
    "\n",
    "bias1 = 2\n",
    "bias2 = 3\n",
    "bias3 = 0.5"
   ]
  },
  {
   "cell_type": "code",
   "execution_count": 39,
   "id": "263543be",
   "metadata": {},
   "outputs": [
    {
     "name": "stdout",
     "output_type": "stream",
     "text": [
      "[4.8, 1.21, 2.385]\n"
     ]
    }
   ],
   "source": [
    "neuron1 = neuron_builder(inputs, weight1, bias1)\n",
    "neuron2 = neuron_builder(inputs, weight2, bias2)\n",
    "neuron3 = neuron_builder(inputs, weight3, bias3)\n",
    "\n",
    "layer_outputs = [neuron1, neuron2, neuron3]\n",
    "print(layer_outputs)"
   ]
  },
  {
   "cell_type": "markdown",
   "id": "b29796aa",
   "metadata": {},
   "source": [
    "#### Taking a bit further and automatizing the neuron creation process:"
   ]
  },
  {
   "cell_type": "code",
   "execution_count": 92,
   "id": "1d64b007",
   "metadata": {},
   "outputs": [],
   "source": [
    "inputs  = inputs = [1, 2, 3, 2.5]\n",
    "weights = [weight1, weight2, weight3]\n",
    "biases  = [bias1  , bias2  , bias3]\n",
    "\n",
    "network = []\n"
   ]
  },
  {
   "cell_type": "code",
   "execution_count": 94,
   "id": "7f9c492a",
   "metadata": {},
   "outputs": [
    {
     "name": "stdout",
     "output_type": "stream",
     "text": [
      "[4.8, 1.21, 2.385]\n"
     ]
    }
   ],
   "source": [
    "layer_outputs = []\n",
    "\n",
    "for neuron_weights, neuron_bias in zip(weights, biases):\n",
    "    \n",
    "    neuron_output = 0\n",
    "    \n",
    "    for n_input, weight in zip(inputs, neuron_weights):\n",
    "        neuron_output += n_input * weight\n",
    "    \n",
    "    neuron_output += neuron_bias\n",
    "    layer_outputs.append(neuron_output)\n",
    "    \n",
    "print(layer_outputs)"
   ]
  },
  {
   "cell_type": "code",
   "execution_count": 96,
   "id": "715e5283",
   "metadata": {},
   "outputs": [
    {
     "name": "stdout",
     "output_type": "stream",
     "text": [
      "[]\n"
     ]
    }
   ],
   "source": [
    "print(network)"
   ]
  },
  {
   "cell_type": "code",
   "execution_count": null,
   "id": "7c1cbaca",
   "metadata": {},
   "outputs": [],
   "source": [
    "network = []"
   ]
  },
  {
   "cell_type": "markdown",
   "id": "c85d387d",
   "metadata": {},
   "source": [
    "# Part 3 - The Dot Product"
   ]
  },
  {
   "cell_type": "code",
   "execution_count": 191,
   "id": "bd7bf713",
   "metadata": {},
   "outputs": [],
   "source": [
    "inputs = [1, 2, 3, 2.5]\n",
    "\n",
    "weights1 = [[ 0.2 ,  0.8 , -0.5,   1],\n",
    "          [ 0.5 , -0.91,  0.26, -0.5],\n",
    "          [-0.26, -0.27,  0.17,  0.87]]\n",
    "\n",
    "bias11 = 2\n",
    "bias12 = 3\n",
    "bias13 = 0.5"
   ]
  },
  {
   "cell_type": "code",
   "execution_count": 292,
   "id": "c72ba600",
   "metadata": {},
   "outputs": [
    {
     "name": "stdout",
     "output_type": "stream",
     "text": [
      "Layer1: [4.8   1.21  2.385]\n"
     ]
    }
   ],
   "source": [
    "layer1 = np.dot(weights1, inputs) + biases\n",
    "\n",
    "print(f\"Layer1: {layer1}\")"
   ]
  },
  {
   "cell_type": "markdown",
   "id": "07b9b8ec",
   "metadata": {},
   "source": [
    "#### Second Layer:"
   ]
  },
  {
   "cell_type": "code",
   "execution_count": 247,
   "id": "4bfb10fa",
   "metadata": {},
   "outputs": [],
   "source": [
    "# Just randomly generating weights and biases, nothing fancy here\n",
    "np.random.seed(123)\n",
    "\n",
    "weights2 = np.random.rand(3,3)\n",
    "biases2  = np.random.rand(1,3)*10"
   ]
  },
  {
   "cell_type": "code",
   "execution_count": 301,
   "id": "b2eea70b",
   "metadata": {
    "scrolled": true
   },
   "outputs": [
    {
     "name": "stdout",
     "output_type": "stream",
     "text": [
      "Layer 2 outputs (3 neurons): [8.151496584851824, 7.662101564419014, 11.520818476750737]\n"
     ]
    }
   ],
   "source": [
    "layer2 = []\n",
    "# For each neuron, dot producting layer 1 outputs and\n",
    "# weights of that specific neuron\n",
    "for weight in weights2.tolist():\n",
    "    layer2.append( np.dot(layer1, weight) )\n",
    "\n",
    "# Adding the biases to all neurons\n",
    "layer2 = [neuron + bias for neuron, bias in zip(layer2, biases2.tolist())]\n",
    "\n",
    "print(f\"Layer 2 outputs (3 neurons): {layer2[0].tolist()}\")"
   ]
  },
  {
   "cell_type": "markdown",
   "id": "6e9b782a",
   "metadata": {},
   "source": [
    "### OR:"
   ]
  },
  {
   "cell_type": "code",
   "execution_count": 298,
   "id": "a3c98e35",
   "metadata": {},
   "outputs": [
    {
     "data": {
      "text/plain": [
       "[8.151496584851824, 7.957757413943942, 13.973831794814457]"
      ]
     },
     "execution_count": 298,
     "metadata": {},
     "output_type": "execute_result"
    }
   ],
   "source": [
    "# outputs = np.dot(weights2, layer1) + biases2\n",
    "# outputs[0].tolist()"
   ]
  },
  {
   "cell_type": "markdown",
   "id": "724c9605",
   "metadata": {},
   "source": [
    "#### So far:"
   ]
  },
  {
   "cell_type": "code",
   "execution_count": 288,
   "id": "8bd1c8ef",
   "metadata": {},
   "outputs": [
    {
     "name": "stdout",
     "output_type": "stream",
     "text": [
      "Inputs: [1, 2, 3, 2.5]\n",
      "Layer1: [4.8, 1.21, 2.385]\n",
      "Layer2: [8.151, 7.662, 11.521]\n"
     ]
    }
   ],
   "source": [
    "print(f\"Inputs: {inputs}\")\n",
    "print(f\"Layer1: {layer1}\")\n",
    "print(f\"Layer2: {[round(i, 3) for i in layer2[0]]}\")"
   ]
  }
 ],
 "metadata": {
  "kernelspec": {
   "display_name": "Python 3 (ipykernel)",
   "language": "python",
   "name": "python3"
  },
  "language_info": {
   "codemirror_mode": {
    "name": "ipython",
    "version": 3
   },
   "file_extension": ".py",
   "mimetype": "text/x-python",
   "name": "python",
   "nbconvert_exporter": "python",
   "pygments_lexer": "ipython3",
   "version": "3.8.10"
  }
 },
 "nbformat": 4,
 "nbformat_minor": 5
}
